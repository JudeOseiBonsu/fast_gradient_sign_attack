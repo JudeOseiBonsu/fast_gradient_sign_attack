{
 "cells": [
  {
   "cell_type": "code",
   "execution_count": null,
   "id": "a0942039",
   "metadata": {},
   "outputs": [],
   "source": [
    "#import libraries\n",
    "\n",
    "import os\n",
    "import numpy as np\n",
    "import torch\n",
    "import glob\n",
    "import torch.nn as nn\n",
    "from torchvision.transforms import transforms\n",
    "from torch.utils.data import DataLoader\n",
    "from torch.optim import Adam\n",
    "from torch.autograd import Variable\n",
    "import pathlib\n",
    "import torchvision"
   ]
  },
  {
   "cell_type": "code",
   "execution_count": null,
   "id": "7417f472",
   "metadata": {},
   "outputs": [],
   "source": [
    "#check for device\n",
    "device = torch.device(\"cuda\" if torch.cuda.is_available() else \"cpu\")\n",
    "print(device)"
   ]
  },
  {
   "cell_type": "code",
   "execution_count": null,
   "id": "30504f2b",
   "metadata": {},
   "outputs": [],
   "source": [
    "train_path = \"./train/\" "
   ]
  },
  {
   "cell_type": "code",
   "execution_count": null,
   "id": "8a131160",
   "metadata": {},
   "outputs": [],
   "source": [
    "train_transform = transforms.Compose([transforms.ToTensor()]) "
   ]
  },
  {
   "cell_type": "code",
   "execution_count": null,
   "id": "1ab19515",
   "metadata": {},
   "outputs": [],
   "source": [
    "train_dataset = torchvision.datasets.ImageFolder(root=train_path, transform=train_transform)"
   ]
  },
  {
   "cell_type": "code",
   "execution_count": null,
   "id": "27a215f9",
   "metadata": {},
   "outputs": [],
   "source": [
    "train_loader = torch.utils.data.DataLoader(dataset=train_dataset, batch_size =32, shuffle=False)"
   ]
  },
  {
   "cell_type": "code",
   "execution_count": null,
   "id": "55d14de2",
   "metadata": {},
   "outputs": [],
   "source": [
    "#calculate the mean and std to normalize the images\n",
    "\n",
    "def mean_std(loader):\n",
    "    mean = 0.\n",
    "    std = 0.\n",
    "    total_images = 0\n",
    "    for images, _ in loader:\n",
    "        image_count = images.size(0)\n",
    "        images = images.view(image_count, images.size(1), -1)\n",
    "        mean += images.mean(2).sum(0)\n",
    "        std += images.std(2).sum(0)\n",
    "        total_images += image_count\n",
    "        \n",
    "    mean /= total_images\n",
    "    std  /= total_images\n",
    "    \n",
    "    return mean, std"
   ]
  },
  {
   "cell_type": "code",
   "execution_count": null,
   "id": "b2d9f581",
   "metadata": {},
   "outputs": [],
   "source": [
    "mean_std(train_loader)"
   ]
  },
  {
   "cell_type": "code",
   "execution_count": null,
   "id": "0d1c8ebe",
   "metadata": {},
   "outputs": [],
   "source": [
    "#Transforming the inputs\n",
    "\n",
    "transformer = transforms.Compose([\n",
    "    transforms.Resize((150,150)),\n",
    "    transforms.RandomHorizontalFlip(),\n",
    "    transforms.ToTensor(),\n",
    "    transforms.Normalize([0.3230, 0.5492, 0.2603], [0.2481, 0.0883, 0.1172])\n",
    "])"
   ]
  },
  {
   "cell_type": "code",
   "execution_count": null,
   "id": "e9aa9386",
   "metadata": {},
   "outputs": [],
   "source": [
    "#DataLoaders for training\n",
    "train_path = \"./train/\"  \n",
    "test_path  = \"./test/\"   \n",
    "\n",
    "train_loader = DataLoader(\n",
    "                torchvision.datasets.ImageFolder(train_path, transform=transformer),\n",
    "                batch_size=16, shuffle=True)\n",
    "\n",
    "test_loader = DataLoader(\n",
    "                torchvision.datasets.ImageFolder(test_path, transform=transformer),\n",
    "                batch_size=16, shuffle=True)"
   ]
  },
  {
   "cell_type": "code",
   "execution_count": null,
   "id": "97931142",
   "metadata": {},
   "outputs": [],
   "source": [
    "#lables\n",
    "root = pathlib.Path(train_path)\n",
    "classes = sorted([j.name.split('/')[-1] for j in root.iterdir()])\n",
    "\n",
    "print(classes)"
   ]
  },
  {
   "cell_type": "code",
   "execution_count": null,
   "id": "dd8242ee",
   "metadata": {},
   "outputs": [],
   "source": [
    "#CNN Network\n",
    "class ConvNet(nn.Module):\n",
    "    def __init__(self, num_classes=3):\n",
    "        \n",
    "        \n",
    "        super(ConvNet, self).__init__()\n",
    "    \n",
    "        #output size after convolution filter\n",
    "        #((w-f+2P)/s) + 1\n",
    "    \n",
    "        #Input shape = (16 ,3,150,150)\n",
    "    \n",
    "        self.conv1=nn.Conv2d(in_channels=3, out_channels=12, kernel_size=3, stride=1, padding=1)\n",
    "        #shape = (16, 12, 150, 150)\n",
    "    \n",
    "        self.bn1 = nn.BatchNorm2d(num_features=12) #num_features == out_channels\n",
    "        #shape = (16, 12, 150, 150)\n",
    "    \n",
    "        self.relu1 = nn.ReLU()\n",
    "        #shape = (16, 12, 150, 150)\n",
    "    \n",
    "        self.pool = nn.MaxPool2d(kernel_size=2)\n",
    "        # Reduce the image size by factor 2\n",
    "        \n",
    "    \n",
    "        ############################################\n",
    "        #shape = (16, 12, 75, 75)\n",
    "        self.conv2=nn.Conv2d(in_channels=12, out_channels=20, kernel_size=3, stride=1, padding=1)\n",
    "        #shape = (16, 20, 75, 75)\n",
    "    \n",
    "        self.relu2 = nn.ReLU()\n",
    "        #shape = (16, 20, 75, 75)\n",
    "    \n",
    "        #################################################\n",
    "    \n",
    "        self.conv3=nn.Conv2d(in_channels=20, out_channels=32, kernel_size=3, stride=1, padding=1)\n",
    "        #shape = (16, 32, 75, 75)\n",
    "    \n",
    "        self.bn3 = nn.BatchNorm2d(num_features=32) #num_features == out_channels\n",
    "        #shape = (16, 32, 75, 75)\n",
    "    \n",
    "        self.relu3 = nn.ReLU()\n",
    "        #shape = (16, 32, 75, 75)\n",
    "    \n",
    "    \n",
    "        self.fc = nn.Linear(in_features=32*75*75, out_features=3)\n",
    "    \n",
    "    \n",
    "        #Forward Propagation\n",
    "    def forward(self, input):\n",
    "        \n",
    "        output = self.conv1(input)\n",
    "        output = self.bn1(output)\n",
    "        output = self.relu1(output)\n",
    "        \n",
    "        output = self.pool(output)\n",
    "        \n",
    "        output = self.conv2(output)\n",
    "        output = self.relu2(output)\n",
    "        \n",
    "        output = self.conv3(output)\n",
    "        output = self.bn3(output)\n",
    "        output = self.relu3(output)\n",
    "        \n",
    "        \n",
    "        #Above output will be in matrix form,with shape (16,32,75,75)\n",
    "        \n",
    "        \n",
    "        output = output.view(-1, 32*75*75)\n",
    "        \n",
    "        output = self.fc(output)\n",
    "        \n",
    "        return output   "
   ]
  },
  {
   "cell_type": "code",
   "execution_count": null,
   "id": "0eaf0285",
   "metadata": {},
   "outputs": [],
   "source": [
    "model = ConvNet(num_classes=3).to(device)"
   ]
  },
  {
   "cell_type": "code",
   "execution_count": null,
   "id": "00b818bb",
   "metadata": {},
   "outputs": [],
   "source": [
    "#Optimizer and loss function\n",
    "optimizer = Adam(model.parameters(), lr=0.001, weight_decay=0.0001)\n",
    "loss_function = nn.CrossEntropyLoss()"
   ]
  },
  {
   "cell_type": "code",
   "execution_count": null,
   "id": "dc5de3cc",
   "metadata": {},
   "outputs": [],
   "source": [
    "num_epochs = 20"
   ]
  },
  {
   "cell_type": "code",
   "execution_count": null,
   "id": "de45f52c",
   "metadata": {},
   "outputs": [],
   "source": [
    "#calculate the size of training and testing images\n",
    "train_count = len(glob.glob(train_path+\"/**/*.png\"))\n",
    "test_count = len(glob.glob(test_path+\"/**/*.png\"))"
   ]
  },
  {
   "cell_type": "code",
   "execution_count": null,
   "id": "a741e212",
   "metadata": {},
   "outputs": [],
   "source": [
    "#Model training and saving best model\n",
    "\n",
    "best_accuracy = 0.0\n",
    "\n",
    "for epoch in range(num_epochs):\n",
    "    \n",
    "    #Training of model on train dataset\n",
    "    model.train()\n",
    "    \n",
    "    train_accuracy = 0.0\n",
    "    train_loss= 0.0\n",
    "    \n",
    "    for i, (images, labels) in enumerate(train_loader):\n",
    "        if torch.cuda.is_available():\n",
    "            images = Variable(images.cuda())\n",
    "            labels = Variable(labels.cuda())\n",
    "            \n",
    "        optimizer.zero_grad()\n",
    "        \n",
    "        outputs = model(images)\n",
    "        loss = loss_function(outputs, labels)\n",
    "        loss.backward()\n",
    "        optimizer.step()\n",
    "        \n",
    "        train_loss += loss.cpu().data*images.size(0)\n",
    "        _, prediction = torch.max(outputs.data, 1)\n",
    "        \n",
    "        train_accuracy += int(torch.sum(prediction == labels.data))\n",
    "        \n",
    "    train_accuracy = train_accuracy/train_count\n",
    "    train_loss = train_loss/train_count\n",
    "    \n",
    "    \n",
    "    #Evalutation on testing dataset\n",
    "    model.eval()\n",
    "    \n",
    "    test_accuracy = 0.0\n",
    "    \n",
    "    for i, (images, labels) in enumerate(test_loader):\n",
    "        if torch.cuda.is_available():\n",
    "            images = Variable(images.cuda())\n",
    "            labels = Variable(labels.cuda())\n",
    "            \n",
    "        outputs = model(images)\n",
    "        _, prediction = torch.max(outputs.data, 1)\n",
    "        test_accuracy += int(torch.sum(prediction == labels.data))\n",
    "        \n",
    "    test_accuracy = test_accuracy/test_count\n",
    "    \n",
    "    \n",
    "    print(\"Epoch: \"  +  str(epoch) +   \" loss: \" + str(train_loss)          + \"  Train Accuracy: \"+ str(train_accuracy)  +  \"  Test Accuracy: \"+ str(test_accuracy))\n",
    "    \n",
    "    \n",
    "    #save the best model\n",
    "    if test_accuracy>best_accuracy:\n",
    "        torch.save(model.state_dict(), \"best_checkpoint.model\")  \n",
    "        best_accuracy = test_accuracy\n",
    "    "
   ]
  },
  {
   "cell_type": "code",
   "execution_count": null,
   "id": "d74e4f2b",
   "metadata": {},
   "outputs": [],
   "source": [
    "#Prediction Phase\n",
    "\n",
    "import numpy as np\n",
    "from torchvision.models import squeezenet1_1\n",
    "import torch.nn.functional as F\n",
    "from io import open\n",
    "from PIL import Image\n",
    "import cv2\n",
    "import matplotlib.pyplot as plt"
   ]
  },
  {
   "cell_type": "code",
   "execution_count": null,
   "id": "e564cd6e",
   "metadata": {},
   "outputs": [],
   "source": [
    "pred_path  = \"./pred/\"   "
   ]
  },
  {
   "cell_type": "code",
   "execution_count": null,
   "id": "5992626f",
   "metadata": {},
   "outputs": [],
   "source": [
    "trained_model = torch.load(\"./best_checkpoint.model\")\n",
    "model = ConvNet(num_classes=6)\n",
    "model.load_state_dict(trained_model)\n",
    "model.eval()"
   ]
  },
  {
   "cell_type": "code",
   "execution_count": null,
   "id": "ae99aa97",
   "metadata": {},
   "outputs": [],
   "source": [
    "def prediction(img_path, transformer):\n",
    "    \n",
    "    image = Image.open(img_path)\n",
    "    \n",
    "    image_tensor = transformer(image).float()\n",
    "    \n",
    "    image_tensor = image_tensor.unsqueeze_(0)\n",
    "    \n",
    "    if torch.cuda.is_available():\n",
    "        image_tensor.cuda()\n",
    "        \n",
    "    input = Variable(image_tensor)\n",
    "    \n",
    "    output = model(input)\n",
    "    \n",
    "    index = output.data.numpy().argmax()\n",
    "    \n",
    "    pred = classes[index]\n",
    "    \n",
    "    return pred"
   ]
  },
  {
   "cell_type": "code",
   "execution_count": null,
   "id": "adbc358a",
   "metadata": {},
   "outputs": [],
   "source": [
    "images_path = glob.glob(pred_path+\"/*.png\")"
   ]
  },
  {
   "cell_type": "code",
   "execution_count": null,
   "id": "0f733b77",
   "metadata": {},
   "outputs": [],
   "source": [
    "pred_dict = {}\n",
    "\n",
    "for i in images_path:\n",
    "    pred_dict[i[i.rfind(\"/\")+1:]] = prediction(i, transformer)"
   ]
  },
  {
   "cell_type": "code",
   "execution_count": null,
   "id": "c5c5c39e",
   "metadata": {},
   "outputs": [],
   "source": [
    "pred_dict"
   ]
  },
  {
   "cell_type": "code",
   "execution_count": null,
   "id": "98c89992",
   "metadata": {},
   "outputs": [],
   "source": [
    "#Adversarial learning Phase\n",
    "epsilons = [0, .05, .1, .15, .2, .25, .3]\n",
    "pretrained_model = \"./best_checkpoint.model\"\n",
    "use_cuda=True"
   ]
  },
  {
   "cell_type": "code",
   "execution_count": null,
   "id": "234c3a9c",
   "metadata": {},
   "outputs": [],
   "source": [
    "pred_loader = DataLoader(torchvision.datasets.ImageFolder(root=\"./adv_ex\", transform=transformer),batch_size=1, shuffle=True)\n",
    "\n",
    "device = torch.device(\"cuda\" if (use_cuda and torch.cuda.is_available()) else \"cpu\")\n",
    "\n",
    "\n",
    "#Initialize the network\n",
    "model = ConvNet().to(device)\n",
    "\n",
    "#Load the pretrained model\n",
    "model.load_state_dict(torch.load(pretrained_model, map_location='cpu'))\n",
    "\n",
    "\n",
    "#Set the model in evaluation mode. In this case this is for the Dropout layers\n",
    "model.eval()    "
   ]
  },
  {
   "cell_type": "code",
   "execution_count": null,
   "id": "96618441",
   "metadata": {},
   "outputs": [],
   "source": [
    "def fgsm_attack(image, epsilon, data_grad):\n",
    "    # Collect the element-wise sign of the data gradient\n",
    "    sign_data_grad = data_grad.sign()\n",
    "    \n",
    "    # Create the perturbed image by adjusting each pixel of the input image\n",
    "    perturbed_image = image + epsilon*sign_data_grad\n",
    "    \n",
    "    # Adding clipping to maintain [0,1] range\n",
    "    perturbed_image = torch.clamp(perturbed_image, 0, 1)\n",
    "    \n",
    "    # Return the perturbed image\n",
    "    return perturbed_image"
   ]
  },
  {
   "cell_type": "code",
   "execution_count": null,
   "id": "46c6b011",
   "metadata": {},
   "outputs": [],
   "source": [
    "def test(model, device, test_loader, epsilon ):\n",
    "\n",
    "    # Accuracy counter\n",
    "    correct = 0\n",
    "    adv_examples = []\n",
    "\n",
    "    # Loop over all examples in test set\n",
    "    for data, target in test_loader:\n",
    "\n",
    "        # Send the data and label to the device\n",
    "        data, target = data.to(device), target.to(device)\n",
    "\n",
    "        # Set requires_grad attribute of tensor. Important for Attack\n",
    "        data.requires_grad = True\n",
    "\n",
    "        # Forward pass the data through the model\n",
    "        output = model(data)\n",
    "        init_pred = output.max(1, keepdim=True)[1] # get the index of the max log-probability\n",
    "\n",
    "        # If the initial prediction is wrong, dont bother attacking, just move on\n",
    "        if init_pred.item() != target.item():\n",
    "            continue\n",
    "\n",
    "        # Calculate the loss\n",
    "        loss = F.nll_loss(output, target)\n",
    "\n",
    "        # Zero all existing gradients\n",
    "        model.zero_grad()\n",
    "\n",
    "        # Calculate gradients of model in backward pass\n",
    "        loss.backward()\n",
    "\n",
    "        # Collect datagrad\n",
    "        data_grad = data.grad.data\n",
    "\n",
    "        # Call FGSM Attack\n",
    "        perturbed_data = fgsm_attack(data, epsilon, data_grad)\n",
    "\n",
    "        # Re-classify the perturbed image\n",
    "        output = model(perturbed_data)\n",
    "\n",
    "        # Check for success\n",
    "        final_pred = output.max(1, keepdim=True)[1] # get the index of the max log-probability\n",
    "        if final_pred.item() == target.item():\n",
    "            correct += 1\n",
    "            # Special case for saving 0 epsilon examples\n",
    "            if (epsilon == 0) and (len(adv_examples) < 5):\n",
    "                adv_ex = perturbed_data.squeeze().detach().cpu().numpy()\n",
    "                adv_examples.append( (init_pred.item(), final_pred.item(), adv_ex) )\n",
    "        else:\n",
    "            # Save some adv examples for visualization later\n",
    "            if len(adv_examples) < 5:\n",
    "                adv_ex = perturbed_data.squeeze().detach().cpu().numpy()\n",
    "                adv_examples.append( (init_pred.item(), final_pred.item(), adv_ex) )\n",
    "\n",
    "    # Calculate final accuracy for this epsilon\n",
    "    final_acc = correct/float(len(test_loader))\n",
    "    print(\"Epsilon: {}\\tTest Accuracy = {}/{} = {}\".format(epsilon, correct, len(test_loader), final_acc))\n",
    "\n",
    "    # Return the accuracy and an adversarial example\n",
    "    return final_acc, adv_examples"
   ]
  },
  {
   "cell_type": "code",
   "execution_count": null,
   "id": "ff0f1ea9",
   "metadata": {},
   "outputs": [],
   "source": [
    "accuracies = []\n",
    "examples = []\n",
    "\n",
    "# Run test for each epsilon\n",
    "for eps in epsilons:\n",
    "    acc, ex = test(model=model, device=device, test_loader=pred_loader, epsilon=eps)\n",
    "    accuracies.append(acc)\n",
    "    examples.append(ex)"
   ]
  },
  {
   "cell_type": "code",
   "execution_count": null,
   "id": "8f203742",
   "metadata": {},
   "outputs": [],
   "source": [
    "# Plot several examples of adversarial samples at each epsilon\n",
    "cnt = 0\n",
    "plt.figure(figsize=(8,10))\n",
    "for i in range(len(epsilons)):\n",
    "    for j in range(len(examples[i])):\n",
    "        cnt += 1\n",
    "        plt.subplot(len(epsilons),len(examples[0]),cnt)\n",
    "        plt.xticks([], [])\n",
    "        plt.yticks([], [])\n",
    "        if j == 0:\n",
    "            plt.ylabel(\"Eps: {}\".format(epsilons[i]), fontsize=14)\n",
    "        orig,adv,ex = examples[i][j]\n",
    "        plt.title(\"{} -> {}\".format(orig, adv))\n",
    "        plt.imshow(ex[0,:,:], cmap=\"gray\")\n",
    "plt.tight_layout()\n",
    "plt.show()"
   ]
  },
  {
   "cell_type": "code",
   "execution_count": null,
   "id": "d589ab2a",
   "metadata": {},
   "outputs": [],
   "source": []
  }
 ],
 "metadata": {
  "kernelspec": {
   "display_name": "Python 3",
   "language": "python",
   "name": "python3"
  },
  "language_info": {
   "codemirror_mode": {
    "name": "ipython",
    "version": 3
   },
   "file_extension": ".py",
   "mimetype": "text/x-python",
   "name": "python",
   "nbconvert_exporter": "python",
   "pygments_lexer": "ipython3",
   "version": "3.8.8"
  }
 },
 "nbformat": 4,
 "nbformat_minor": 5
}
